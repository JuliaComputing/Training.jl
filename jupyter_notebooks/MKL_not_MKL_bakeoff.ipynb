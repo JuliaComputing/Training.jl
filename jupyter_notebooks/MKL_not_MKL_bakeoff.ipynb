{
 "cells": [
  {
   "cell_type": "code",
   "execution_count": null,
   "id": "ac4b9404",
   "metadata": {},
   "outputs": [],
   "source": [
    "using BenchmarkTools\n",
    "using LinearAlgebra"
   ]
  },
  {
   "cell_type": "code",
   "execution_count": null,
   "id": "44ea2ecb",
   "metadata": {},
   "outputs": [],
   "source": [
    "BLAS.get_config()"
   ]
  },
  {
   "cell_type": "code",
   "execution_count": null,
   "id": "1bb3359e",
   "metadata": {},
   "outputs": [],
   "source": [
    "A = randn(3000, 3000);\n",
    "B = randn(3000, 3000);\n",
    "C = randn(10_000, 10_000);\n",
    "D = randn(10_000, 10_000);"
   ]
  },
  {
   "cell_type": "code",
   "execution_count": null,
   "id": "f6b42cdb",
   "metadata": {},
   "outputs": [],
   "source": [
    "@benchmark  A*B"
   ]
  },
  {
   "cell_type": "code",
   "execution_count": null,
   "id": "d275dc59",
   "metadata": {},
   "outputs": [],
   "source": [
    "@time C*D;"
   ]
  },
  {
   "cell_type": "code",
   "execution_count": null,
   "id": "ac89d1bb",
   "metadata": {},
   "outputs": [],
   "source": [
    "using MKL;"
   ]
  },
  {
   "cell_type": "code",
   "execution_count": null,
   "id": "c472025b",
   "metadata": {},
   "outputs": [],
   "source": [
    "BLAS.get_config()"
   ]
  },
  {
   "cell_type": "code",
   "execution_count": null,
   "id": "b109f608",
   "metadata": {},
   "outputs": [],
   "source": [
    "@benchmark  A*B"
   ]
  },
  {
   "cell_type": "code",
   "execution_count": null,
   "id": "fac028df",
   "metadata": {},
   "outputs": [],
   "source": [
    "@time C*D;"
   ]
  },
  {
   "cell_type": "code",
   "execution_count": null,
   "id": "b4318894",
   "metadata": {},
   "outputs": [],
   "source": []
  }
 ],
 "metadata": {
  "kernelspec": {
   "display_name": "Julia 1.8.3",
   "language": "julia",
   "name": "julia-1.8"
  },
  "language_info": {
   "file_extension": ".jl",
   "mimetype": "application/julia",
   "name": "julia",
   "version": "1.8.3"
  }
 },
 "nbformat": 4,
 "nbformat_minor": 5
}
